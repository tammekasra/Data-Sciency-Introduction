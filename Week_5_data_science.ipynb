{
 "cells": [
  {
   "cell_type": "markdown",
   "metadata": {},
   "source": [
    "# Introduction to Data Science 2025\n",
    "\n",
    "# Week 6: Recap"
   ]
  },
  {
   "cell_type": "markdown",
   "metadata": {},
   "source": [
    "## Exercise 1 | Linear regression with feature selection"
   ]
  },
  {
   "cell_type": "markdown",
   "metadata": {},
   "source": [
    "Download the [TED Talks](https://www.kaggle.com/rounakbanik/ted-talks) dataset from Kaggle. Your task is to predict both the ratings and the number of views of a given TED talk. You should focus only on the <span style=\"font-weight: bold\">ted_main</span> table.\n",
    "\n",
    "1. Download the data, extract the following ratings from column <span style=\"font-weight: bold\">ratings</span>: <span style=\"font-weight: bold\">Funny</span>, <span style=\"font-weight: bold\">Confusing</span>, <span style=\"font-weight: bold\">Inspiring</span>. Store these values into respective columns so that they are easier to access. Next, extract the tags from column <span style=\"font-weight: bold\">tags</span>. Count the number of occurrences of each tag and select the top-100 most common tags. Create a binary variable for each of these and include them in your data table, so that you can directly see whether a given tag (among the top-100 tags) is used in a given TED talk or not. The dataset you compose should have dimension (2550, 104), and comprise of the 'views' column, the three columns with counts of \"Funny\", \"Confusing and \"Inspiring\" ratings, and 100 columns which one-hot encode the top-100 most common tag columns.\n"
   ]
  },
  {
   "cell_type": "code",
   "execution_count": 1,
   "metadata": {},
   "outputs": [
    {
     "name": "stdout",
     "output_type": "stream",
     "text": [
      "(2550, 420)\n"
     ]
    },
    {
     "data": {
      "text/html": [
       "<div>\n",
       "<style scoped>\n",
       "    .dataframe tbody tr th:only-of-type {\n",
       "        vertical-align: middle;\n",
       "    }\n",
       "\n",
       "    .dataframe tbody tr th {\n",
       "        vertical-align: top;\n",
       "    }\n",
       "\n",
       "    .dataframe thead th {\n",
       "        text-align: right;\n",
       "    }\n",
       "</style>\n",
       "<table border=\"1\" class=\"dataframe\">\n",
       "  <thead>\n",
       "    <tr style=\"text-align: right;\">\n",
       "      <th></th>\n",
       "      <th>views</th>\n",
       "      <th>Funny</th>\n",
       "      <th>Confusing</th>\n",
       "      <th>Inspiring</th>\n",
       "      <th>3d printing</th>\n",
       "      <th>AI</th>\n",
       "      <th>AIDS</th>\n",
       "      <th>Addiction</th>\n",
       "      <th>Africa</th>\n",
       "      <th>Alzheimer's</th>\n",
       "      <th>...</th>\n",
       "      <th>wikipedia</th>\n",
       "      <th>wind energy</th>\n",
       "      <th>women</th>\n",
       "      <th>women in business</th>\n",
       "      <th>work</th>\n",
       "      <th>work-life balance</th>\n",
       "      <th>world cultures</th>\n",
       "      <th>writing</th>\n",
       "      <th>wunderkind</th>\n",
       "      <th>youth</th>\n",
       "    </tr>\n",
       "  </thead>\n",
       "  <tbody>\n",
       "    <tr>\n",
       "      <th>0</th>\n",
       "      <td>47227110</td>\n",
       "      <td>19645</td>\n",
       "      <td>242</td>\n",
       "      <td>24924</td>\n",
       "      <td>0</td>\n",
       "      <td>0</td>\n",
       "      <td>0</td>\n",
       "      <td>0</td>\n",
       "      <td>0</td>\n",
       "      <td>0</td>\n",
       "      <td>...</td>\n",
       "      <td>0</td>\n",
       "      <td>0</td>\n",
       "      <td>0</td>\n",
       "      <td>0</td>\n",
       "      <td>0</td>\n",
       "      <td>0</td>\n",
       "      <td>0</td>\n",
       "      <td>0</td>\n",
       "      <td>0</td>\n",
       "      <td>0</td>\n",
       "    </tr>\n",
       "    <tr>\n",
       "      <th>1</th>\n",
       "      <td>3200520</td>\n",
       "      <td>544</td>\n",
       "      <td>62</td>\n",
       "      <td>413</td>\n",
       "      <td>0</td>\n",
       "      <td>0</td>\n",
       "      <td>0</td>\n",
       "      <td>0</td>\n",
       "      <td>0</td>\n",
       "      <td>0</td>\n",
       "      <td>...</td>\n",
       "      <td>0</td>\n",
       "      <td>0</td>\n",
       "      <td>0</td>\n",
       "      <td>0</td>\n",
       "      <td>0</td>\n",
       "      <td>0</td>\n",
       "      <td>0</td>\n",
       "      <td>0</td>\n",
       "      <td>0</td>\n",
       "      <td>0</td>\n",
       "    </tr>\n",
       "    <tr>\n",
       "      <th>2</th>\n",
       "      <td>1636292</td>\n",
       "      <td>964</td>\n",
       "      <td>27</td>\n",
       "      <td>230</td>\n",
       "      <td>0</td>\n",
       "      <td>0</td>\n",
       "      <td>0</td>\n",
       "      <td>0</td>\n",
       "      <td>0</td>\n",
       "      <td>0</td>\n",
       "      <td>...</td>\n",
       "      <td>0</td>\n",
       "      <td>0</td>\n",
       "      <td>0</td>\n",
       "      <td>0</td>\n",
       "      <td>0</td>\n",
       "      <td>0</td>\n",
       "      <td>0</td>\n",
       "      <td>0</td>\n",
       "      <td>0</td>\n",
       "      <td>0</td>\n",
       "    </tr>\n",
       "    <tr>\n",
       "      <th>3</th>\n",
       "      <td>1697550</td>\n",
       "      <td>59</td>\n",
       "      <td>32</td>\n",
       "      <td>1070</td>\n",
       "      <td>0</td>\n",
       "      <td>0</td>\n",
       "      <td>0</td>\n",
       "      <td>0</td>\n",
       "      <td>0</td>\n",
       "      <td>0</td>\n",
       "      <td>...</td>\n",
       "      <td>0</td>\n",
       "      <td>0</td>\n",
       "      <td>0</td>\n",
       "      <td>0</td>\n",
       "      <td>0</td>\n",
       "      <td>0</td>\n",
       "      <td>0</td>\n",
       "      <td>0</td>\n",
       "      <td>0</td>\n",
       "      <td>0</td>\n",
       "    </tr>\n",
       "    <tr>\n",
       "      <th>4</th>\n",
       "      <td>12005869</td>\n",
       "      <td>1390</td>\n",
       "      <td>72</td>\n",
       "      <td>2893</td>\n",
       "      <td>0</td>\n",
       "      <td>0</td>\n",
       "      <td>0</td>\n",
       "      <td>0</td>\n",
       "      <td>1</td>\n",
       "      <td>0</td>\n",
       "      <td>...</td>\n",
       "      <td>0</td>\n",
       "      <td>0</td>\n",
       "      <td>0</td>\n",
       "      <td>0</td>\n",
       "      <td>0</td>\n",
       "      <td>0</td>\n",
       "      <td>0</td>\n",
       "      <td>0</td>\n",
       "      <td>0</td>\n",
       "      <td>0</td>\n",
       "    </tr>\n",
       "  </tbody>\n",
       "</table>\n",
       "<p>5 rows × 420 columns</p>\n",
       "</div>"
      ],
      "text/plain": [
       "      views  Funny  Confusing  Inspiring  3d printing  AI  AIDS  Addiction  \\\n",
       "0  47227110  19645        242      24924            0   0     0          0   \n",
       "1   3200520    544         62        413            0   0     0          0   \n",
       "2   1636292    964         27        230            0   0     0          0   \n",
       "3   1697550     59         32       1070            0   0     0          0   \n",
       "4  12005869   1390         72       2893            0   0     0          0   \n",
       "\n",
       "   Africa  Alzheimer's  ...  wikipedia  wind energy  women  women in business  \\\n",
       "0       0            0  ...          0            0      0                  0   \n",
       "1       0            0  ...          0            0      0                  0   \n",
       "2       0            0  ...          0            0      0                  0   \n",
       "3       0            0  ...          0            0      0                  0   \n",
       "4       1            0  ...          0            0      0                  0   \n",
       "\n",
       "   work  work-life balance  world cultures  writing  wunderkind  youth  \n",
       "0     0                  0               0        0           0      0  \n",
       "1     0                  0               0        0           0      0  \n",
       "2     0                  0               0        0           0      0  \n",
       "3     0                  0               0        0           0      0  \n",
       "4     0                  0               0        0           0      0  \n",
       "\n",
       "[5 rows x 420 columns]"
      ]
     },
     "execution_count": 1,
     "metadata": {},
     "output_type": "execute_result"
    }
   ],
   "source": [
    "# Use this cell for your code\n",
    "\n",
    "import pandas as pd\n",
    "import ast\n",
    "from sklearn.preprocessing import MultiLabelBinarizer\n",
    "\n",
    "\n",
    "'''\n",
    "deat the data\n",
    "'''\n",
    "data = pd.read_csv('ted_main.csv')\n",
    "\n",
    "'''\n",
    "This converts the JSON-like string to a dict\n",
    "'''\n",
    "data['ratings'] = data['ratings'].apply(ast.literal_eval)\n",
    "\n",
    "\n",
    "'''\n",
    "raiting count for each name\n",
    "'''\n",
    "def get_rating(ratings, name):\n",
    "    for r in ratings:\n",
    "        if r['name'] == name:\n",
    "            return r['count']\n",
    "    return 0\n",
    "'''\n",
    "3 columns for the three attributes - funny, confusing, inspiring\n",
    "'''\n",
    "for col in ['Funny', 'Confusing', 'Inspiring']:\n",
    "    data[col] = data['ratings'].apply(lambda x: get_rating(x, col))\n",
    "\n",
    "data['tags'] = data['tags'].apply(ast.literal_eval)\n",
    "\n",
    "mlb = MultiLabelBinarizer()\n",
    "tag_encoded = pd.DataFrame(mlb.fit_transform(data['tags']),\n",
    "                           columns=mlb.classes_, index=data.index)\n",
    "final_df = pd.concat([data[['views', 'Funny', 'Confusing', 'Inspiring']], tag_encoded], axis=1)\n",
    "\n",
    "print(final_df.shape) \n",
    "final_df.head()\n"
   ]
  },
  {
   "cell_type": "markdown",
   "metadata": {},
   "source": [
    "2. Construct a linear regression model to predict the number of views based on the data in the <span style=\"font-weight: bold\">ted_main</span> table, including the binary variables for the top-100 tags that you just created."
   ]
  },
  {
   "cell_type": "code",
   "execution_count": 2,
   "metadata": {},
   "outputs": [
    {
     "name": "stdout",
     "output_type": "stream",
     "text": [
      "[ 4.62368677e+05  2.45118840e+06  2.72495385e+03  7.27249596e+05\n",
      "  1.10382815e+06  2.16415623e+06 -3.64977594e+04  1.09884171e+06\n",
      "  1.37296866e+06  2.37242300e+06  1.82650577e+06  1.62433439e+06\n",
      "  5.58635736e+05  1.40961005e+06  3.83964003e+06  1.02311349e+06\n",
      " -1.76384022e+05  1.68886343e+04  2.15292612e+06  1.03933073e+06\n",
      "  8.65690582e+05  1.49364446e+05  8.10372639e+06  3.77490317e+05\n",
      "  3.50060586e+06  1.35171083e+06  1.71792014e+06  9.84386794e+05\n",
      "  2.56584438e+06  1.19215380e+06  2.05868246e+06  2.60664646e+04\n",
      "  2.28942613e+06  1.05290827e+06  2.24534080e+06  8.96869516e+05\n",
      "  2.29974277e+06  2.62400348e+06  9.79721787e+05  1.74318970e+06\n",
      "  2.16459384e+06  1.17664119e+06  7.22776262e+05  1.28712226e+06\n",
      "  1.35006107e+06  3.08239957e+06 -9.21390467e+04  9.98343359e+05\n",
      "  1.20978289e+06  1.24968058e+06  1.91450149e+06  9.92423839e+05\n",
      "  1.17460178e+06  1.65178014e+06  8.03330845e+05  1.76309468e+06\n",
      "  1.17544639e+06  2.56982619e+05  1.10444803e+06  3.77043392e+05\n",
      "  4.03179371e+05  1.19748012e+06  3.12516803e+06  9.67494669e+05\n",
      "  2.62651952e+06 -2.25298389e+04  9.44262162e+05  1.49076904e+06\n",
      "  8.42954322e+05  3.73758983e+06  1.27416002e+06  1.02378690e+06\n",
      "  1.37802769e+06  1.07212934e+06  1.14081495e+06  6.13060716e+05\n",
      "  2.12932252e+06  3.79912258e+06  5.80672885e+05 -4.65782329e+05\n",
      "  8.30130994e+05  3.19113759e+06  1.39721415e+06  5.38693810e+06\n",
      "  9.02383024e+05  2.09048498e+06  2.15267330e+06  1.76256733e+06\n",
      "  9.92712043e+05  8.00734335e+05  1.90742850e+06  1.10740637e+06\n",
      "  4.37765780e+06  1.11499766e+06  1.02282819e+06  1.15899599e+07\n",
      "  5.43549266e+06  1.12898097e+06  1.57048020e+06  9.61114864e+05\n",
      "  2.66057830e+06  3.09623733e+05  1.05683333e+06  6.46082048e+05\n",
      "  1.50846969e+05 -3.08442535e+05  2.45467636e+06  7.55878983e+05\n",
      "  1.76732985e+06  4.53541151e+06  7.30509332e+05 -2.45386513e+05\n",
      "  4.07048578e+05  7.75859509e+04  1.88007740e+06  6.51471136e+05\n",
      "  2.13320467e+06  1.07548679e+06  1.77062619e+06  1.50721628e+06\n",
      "  3.51262523e+06  2.54962206e+06 -3.07321862e+05  9.26046035e+05\n",
      "  9.76394590e+05  1.20426203e+06  8.84598294e+05  1.62899926e+06\n",
      "  8.93982826e+05  3.10762357e+06  2.00630006e+06  1.24763131e+06\n",
      "  8.55205595e+05  8.79502503e+05  1.38037377e+06  1.68229649e+06\n",
      " -9.66509790e+04  1.30688414e+06  6.53534855e+05  1.19845158e+06\n",
      "  9.62725203e+05  2.73871583e+05  5.57417205e+05  1.77064742e+06\n",
      "  1.60712449e+06  3.89846074e+05  7.65010671e+05  1.53481929e+06\n",
      "  1.58349071e+06  1.10305551e+06  1.95168982e+06  6.97156361e+05\n",
      "  3.05179190e+06  1.53415061e+06  2.25367521e+06  3.60593217e+06\n",
      "  5.31533006e+05  2.05968776e+06  1.76839280e+06  8.51807478e+05\n",
      "  2.45053699e+06  1.02510666e+06  2.24583767e+06  2.72665584e+06\n",
      " -2.75146977e+04  5.99838152e+05  2.00500592e+06  1.64697171e+04\n",
      "  8.98921486e+05  2.80023757e+06  3.48527683e+06  4.89832964e+05\n",
      "  1.12146891e+07  1.53170265e+06  2.55912116e+06  1.03914841e+06\n",
      "  3.83557589e+06  7.34816610e+06  2.87024231e+06  1.14718322e+06\n",
      "  1.69872583e+06  8.66209446e+05  1.18941079e+06  3.22678155e+06\n",
      "  6.57294800e+05  3.48335360e+06  1.40484787e+06  1.12720918e+06\n",
      "  1.26631602e+06  3.03211362e+06  1.27942863e+06  2.63297772e+06\n",
      "  2.04817015e+06 -3.42807004e+05  1.04221064e+06  4.83304999e+05\n",
      "  7.44777875e+05  1.14603635e+06  1.08097809e+06  7.68866722e+05\n",
      "  7.92108918e+05  1.30437124e+06  7.53794256e+05  9.52223470e+05\n",
      "  1.13738089e+06  4.51793413e+06  5.62599612e+05  6.74160524e+05\n",
      " -1.69855582e+05  2.52035662e+06  9.62530915e+05  1.05399468e+06\n",
      "  1.80774003e+06  5.17918466e+05  2.68035026e+06  5.97946261e+05\n",
      "  1.14117035e+06  6.17946101e+06  2.61614960e+06  1.55677916e+07\n",
      " -1.58611892e+05  1.37848128e+06  1.18123109e+06  1.98020918e+06\n",
      "  1.02923301e+06  1.61016993e+06  1.79393076e+06  2.56802601e+06\n",
      "  1.71146160e+06  9.06246597e+05  6.82142275e+05  2.03569940e+06\n",
      "  1.32796783e+06  7.05906580e+05  3.14543764e+06  1.56716888e+06\n",
      "  1.88451676e+06  2.15916598e+06  1.25781878e+06  1.15759672e+06\n",
      "  2.43313786e+06  8.76628415e+05  1.34274861e+06  2.86069329e+05\n",
      "  8.89254277e+05  2.62229219e+06  1.10102063e+06  2.44692810e+06\n",
      "  1.39386156e+06  1.34404603e+06  6.50184109e+06  1.12562103e+06\n",
      "  2.99932413e+06  1.12029332e+06  1.63204179e+06  1.29480739e+06\n",
      "  1.20405805e+06  1.45462202e+06  1.35565901e+06  2.96613507e+06\n",
      "  1.89722884e+06  3.68829996e+05  1.17532040e+06  1.31664605e+06\n",
      "  1.37176472e+06  1.73004440e+06  1.00209791e+06  1.73331750e+06\n",
      "  1.35094449e+06  4.56917467e+05  1.23850488e+06  8.36327379e+05\n",
      "  3.41919667e+05  1.29280607e+06  5.77802981e+05  6.53596833e+06\n",
      " -2.80752483e+05  3.88340486e+06  2.84015012e+06  1.50152144e+06\n",
      "  3.05188637e+05  1.34785425e+06  1.51625801e+06  8.30877148e+05\n",
      "  1.28889385e+06  1.05650276e+06  2.24910661e+05  6.64868438e+05\n",
      "  8.47567362e+05  6.61503199e+05  1.53046567e+06  4.28305137e+06\n",
      " -4.09417642e+04  1.61156083e+06  4.92260772e+05  4.66522382e+06\n",
      "  1.22369211e+06  2.37543235e+06  2.79281804e+05  3.93460155e+06\n",
      "  2.57207621e+06  1.62994074e+06  1.10492601e+06  3.80737297e+06\n",
      "  3.51482037e+06  8.76432965e+05  7.67880736e+05  1.15509334e+06\n",
      "  2.89211712e+06  1.14088662e+06  1.57619623e+06  7.47596666e+05\n",
      "  1.56500648e+06 -9.69620343e+04  1.81832371e+06  1.90185885e+06\n",
      "  1.18760530e+06  2.77989410e+06  5.97688154e+05  1.33756596e+06\n",
      "  1.12417619e+06 -1.77852182e+05  5.28856268e+05  2.85415912e+06\n",
      "  3.46175447e+05  9.52445383e+05  2.31416840e+05  1.17996938e+06\n",
      "  1.07330603e+06  1.21240781e+06  1.02458468e+06  2.70670658e+06\n",
      "  1.07861497e+06  1.02784904e+06  1.07687662e+06  9.01316501e+05\n",
      "  3.66658919e+05  2.20476262e+06  4.45349362e+06  2.83041438e+06\n",
      "  7.82860396e+05  5.25389407e+05  8.91838093e+05  1.43476564e+05\n",
      "  9.33120344e+05  1.18954006e+06  1.20217725e+06  1.23759120e+06\n",
      "  1.67101755e+06  1.38381718e+06  3.10151237e+05  5.54704399e+04\n",
      "  8.81120659e+05  2.28028758e+06  7.43151952e+05  1.02436509e+06\n",
      "  1.28492251e+06  7.17365137e+06  1.04799827e+07  1.72890911e+06\n",
      "  7.95566547e+05  1.18127928e+06  3.79134413e+05  5.91174679e+05\n",
      "  6.15654066e+05  5.56420379e+06  5.53620722e+06  1.34305505e+07\n",
      "  1.70384082e+06  1.56459751e+06  1.97973347e+06  2.32784591e+06\n",
      "  2.42201371e+06  5.69034005e+05  1.98199490e+06  2.52944031e+06\n",
      "  7.75084263e+05  1.27996088e+06  3.69984115e+06  6.08246742e+05\n",
      "  1.21459860e+05  6.36803211e+06  1.80859502e+06  1.08951353e+06\n",
      "  9.68614701e+05  1.55216694e+06  1.25695482e+06  1.26629684e+06\n",
      " -1.09031166e+05  1.93193283e+05  1.42415006e+06  1.95292639e+05\n",
      "  6.14578801e+05  2.74583668e+06 -3.72148047e+05  9.17997371e+05\n",
      "  2.99764247e+06  1.50693476e+06  4.10407106e+06  7.03822279e+05\n",
      "  1.74277233e+06  1.12135907e+06  1.88022900e+06  3.02327188e+06\n",
      "  8.79180633e+05  1.08081287e+06  2.07855272e+06  3.24817623e+06\n",
      "  1.32379419e+06  9.95660988e+04  9.49725329e+05  4.54984208e+05\n",
      "  7.53608869e+05  2.32234019e+06  4.36411462e+05  1.36657192e+06\n",
      "  1.73080786e+06  1.35165502e+06  1.54690915e+06  8.24181677e+05\n",
      "  1.25362911e+06  1.11688683e+06 -1.91640878e+05  2.59367887e+06\n",
      "  1.08106764e+06  1.78374439e+05  1.55047942e+06  7.32039232e+04\n",
      "  7.64761362e+05  7.24372548e+05  7.90068791e+05 -3.11854840e+04\n",
      "  1.18745695e+06  7.89502483e+05  1.21752968e+06  6.22460318e+05\n",
      "  1.05488350e+06  2.87015854e+05  1.66333282e+04  1.51558034e+06\n",
      "  4.32798928e+05  8.11156217e+05  7.98357269e+05  3.20332783e+06\n",
      "  2.28799461e+06  8.79624064e+05  1.00133902e+07  6.95303292e+05\n",
      "  5.55211379e+05  1.05865607e+06  1.45916384e+06  1.07838866e+06\n",
      "  9.74846436e+05  2.10942922e+06  2.40229860e+06 -4.05796976e+05\n",
      "  6.47974154e+05 -3.97369715e+04  1.95626895e+06  2.58875950e+06\n",
      "  4.56538330e+05  1.19581037e+06  1.51995939e+06  1.45655402e+06\n",
      "  1.43948011e+06  9.16121266e+05  1.27820708e+06  3.94009409e+06\n",
      "  1.11620363e+06  1.35737245e+06  2.33276455e+06  2.74157419e+06\n",
      "  1.16749716e+06  1.10408294e+06  1.70875455e+06  2.15934611e+06\n",
      "  1.19487776e+06  2.61702833e+06  1.07930278e+06  1.00434593e+06\n",
      "  1.07664919e+05  2.27989510e+06  6.17947255e+05  3.81253130e+05\n",
      "  7.41213184e+05  2.39954085e+06  4.55047545e+06  1.40123265e+06\n",
      "  3.26322702e+05  1.04578680e+06  8.28023569e+05  9.91902815e+05\n",
      "  5.22782808e+04  1.72267130e+06  1.20859783e+06  2.79282128e+06\n",
      "  1.87870355e+06  1.05022627e+06  1.23241804e+06  1.17505091e+06\n",
      "  1.65208114e+06  1.59184025e+06  8.30749125e+05  2.87082769e+06\n",
      "  1.55598672e+06  7.39406056e+06  7.69721936e+05  2.19611387e+06\n",
      "  3.51017764e+06  1.18190152e+06] 0.6135709710198132\n"
     ]
    }
   ],
   "source": [
    "# Use this cell for your code\n",
    "\n",
    "from sklearn.model_selection import train_test_split\n",
    "from sklearn.linear_model import LinearRegression\n",
    "from sklearn.metrics import r2_score\n",
    "\n",
    "X = final_df.drop('views', axis=1)\n",
    "y = final_df['views']\n",
    "\n",
    "X_train, X_test, y_train, y_test = train_test_split(X, y, test_size=0.2, random_state=42)\n",
    "\n",
    "model = LinearRegression()\n",
    "model.fit(X_train, y_train)\n",
    "\n",
    "y_pred = model.predict(X_test)\n",
    "r2 = r2_score(y_test, y_pred)\n",
    "\n",
    "print(y_pred,r2)\n"
   ]
  },
  {
   "cell_type": "markdown",
   "metadata": {},
   "source": [
    "3. Do the same for the <span style=\"font-weight: bold\">Funny</span>, <span style=\"font-weight: bold\">Confusing</span>, and <span style=\"font-weight: bold\">Inspiring</span> ratings.\n"
   ]
  },
  {
   "cell_type": "code",
   "execution_count": 3,
   "metadata": {},
   "outputs": [
    {
     "name": "stdout",
     "output_type": "stream",
     "text": [
      "-0.06471703789979721 142969.55247650525\n",
      "0.07534670288106804 837.209922637803\n",
      "-0.1743675881749509 1078395.9252090473\n"
     ]
    }
   ],
   "source": [
    "# Use this cell for your code\n",
    "from sklearn.metrics import mean_squared_error\n",
    "\n",
    "X = final_df.drop(['views', 'Funny', 'Confusing', 'Inspiring'], axis=1)\n",
    "targets = ['Funny', 'Confusing', 'Inspiring']\n",
    "\n",
    "for target in targets:\n",
    "    y = final_df[target]\n",
    "    X_train, X_test, y_train, y_test = train_test_split(X, y, test_size=0.2, random_state=42)\n",
    "    model = LinearRegression()\n",
    "    model.fit(X_train, y_train)\n",
    "    y_pred = model.predict(X_test)\n",
    "    r2 = r2_score(y_test, y_pred)\n",
    "    mse = mean_squared_error(y_test, y_pred)\n",
    "    print(r2,mse)"
   ]
  },
  {
   "cell_type": "markdown",
   "metadata": {},
   "source": [
    "4. You will probably notice that most of the tags are not useful in predicting the views and the ratings. You should use some kind of variable selection to prune the set of tags that are included in the model. You can use for example classical p-values or more modern [LASSO](https://en.wikipedia.org/wiki/Lasso_(statistics)) techniques. Which tags are the best predictors of each of the response variables?"
   ]
  },
  {
   "cell_type": "code",
   "execution_count": null,
   "metadata": {},
   "outputs": [],
   "source": [
    "# Use this cell for your code\n",
    "\n",
    "from sklearn.linear_model import LassoCV\n",
    "from sklearn.preprocessing import StandardScaler\n",
    "\n",
    "\n",
    "X = final_df.drop(['views', 'Funny', 'Confusing', 'Inspiring'], axis=1)\n",
    "scaler = StandardScaler()\n",
    "X_scaled = scaler.fit_transform(X)\n",
    "\n",
    "targets = ['views', 'Funny', 'Confusing', 'Inspiring']\n",
    "important_tags = {}\n",
    "\n",
    "for target in targets:\n",
    "    y = final_df[target]\n",
    "    lasso = LassoCV(cv=5, random_state=42)\n",
    "    lasso.fit(X_scaled, y)\n",
    "    coefs = pd.Series(lasso.coef_, index=X.columns)\n",
    "    non_zero = coefs[coefs != 0].sort_values(ascending=False)\n",
    "    important_tags[target] = non_zero\n",
    "    print(target, non_zero.head(10),len(non_zero))\n",
    "    "
   ]
  },
  {
   "cell_type": "markdown",
   "metadata": {},
   "source": [
    "5. Produce summaries of your results. Could you recommend good tags – or tags to avoid! – for speakers targeting plenty of views and/or certain ratings?"
   ]
  },
  {
   "cell_type": "code",
   "execution_count": null,
   "metadata": {},
   "outputs": [
    {
     "name": "stdout",
     "output_type": "stream",
     "text": [
      "views success          281544.762221\n",
      "psychology       251402.839491\n",
      "body language    193713.673245\n",
      "culture          106847.985176\n",
      "dance             74757.312678\n",
      "brain             53129.906484\n",
      "magic             44321.921024\n",
      "depression        21667.523421\n",
      "work              21526.612028\n",
      "comedy            19900.439147\n",
      "dtype: float64 15\n",
      "Funny comedy          88.019470\n",
      "humor           58.378272\n",
      "dance           34.107591\n",
      "teaching        14.292046\n",
      "productivity     9.412108\n",
      "culture          3.397894\n",
      "psychology       0.949627\n",
      "dtype: float64 7\n",
      "Confusing apes               4.686795\n",
      "culture            3.044009\n",
      "psychology         2.137953\n",
      "philosophy         1.898877\n",
      "TED Brain Trust    1.844744\n",
      "brain              1.822756\n",
      "physics            1.606976\n",
      "magic              1.412608\n",
      "consciousness      1.286903\n",
      "dance              1.255543\n",
      "dtype: float64 51\n",
      "Inspiring success          178.251791\n",
      "psychology        82.260686\n",
      "self              69.160390\n",
      "body language     64.840723\n",
      "depression        63.451418\n",
      "leadership        49.154641\n",
      "culture           40.196484\n",
      "goal-setting      36.248259\n",
      "education         27.193297\n",
      "teaching          23.906352\n",
      "dtype: float64 15\n"
     ]
    }
   ],
   "source": [
    "\n"
   ]
  },
  {
   "cell_type": "markdown",
   "metadata": {},
   "source": [
    "**Remember to submit your code on the MOOC platform. You can return this Jupyter notebook (.ipynb) or .py, .R, etc depending on your programming preferences.**"
   ]
  },
  {
   "cell_type": "markdown",
   "metadata": {},
   "source": [
    "## Exercise 2 | Symbol classification (part 2)\n",
    "\n",
    "Note that it is strongly recommended to use Python in this exercise. However, if you can find a suitable AutoML implementation for your favorite language (e.g [here](http://h2o-release.s3.amazonaws.com/h2o/master/3888/docs-website/h2o-docs/automl.html) seems to be one for R) then you are free to use that language as well.\n",
    "\n",
    "Use the preprocessed data from week 3 (you can also produce them using the example solutions of week 3)."
   ]
  },
  {
   "cell_type": "markdown",
   "metadata": {},
   "source": [
    "1. This time train a *random forest classifier* on the data. A random forest is a collection of *decision trees*, which makes it an *ensemble* of classifiers. Each tree uses a random subset of the features to make its prediction. Without tuning any parameters, how is the accuracy?"
   ]
  },
  {
   "cell_type": "code",
   "execution_count": 7,
   "metadata": {},
   "outputs": [
    {
     "name": "stdout",
     "output_type": "stream",
     "text": [
      "Random Forest accuracy: 0.4898785425101215\n"
     ]
    }
   ],
   "source": [
    "from sklearn.feature_extraction.text import TfidfVectorizer\n",
    "from sklearn.model_selection import train_test_split\n",
    "from sklearn.ensemble import RandomForestClassifier\n",
    "from sklearn.metrics import accuracy_score\n",
    "import pandas as pd\n",
    "\n",
    "\n",
    "data = pd.read_csv(\"transcripts.csv\", sep=\",\")\n",
    "texts = data['transcript']\n",
    "labels = (data.index % 2 == 0).astype(int)  \n",
    "\n",
    "\n",
    "vectorizer = TfidfVectorizer()\n",
    "X = vectorizer.fit_transform(texts)\n",
    "y = labels\n",
    "\n",
    "X_train, X_test, y_train, y_test = train_test_split(X, y, train_size=0.8, random_state=42)\n",
    "\n",
    "rf_model = RandomForestClassifier(random_state=42)\n",
    "rf_model.fit(X_train, y_train)\n",
    "\n",
    "y_pred = rf_model.predict(X_test)\n",
    "print(\"Random Forest accuracy:\", accuracy_score(y_test, y_pred))\n"
   ]
  },
  {
   "cell_type": "markdown",
   "metadata": {},
   "source": [
    "2. The amount of trees to use as a part of the random forest is an example of a hyperparameter, because it is a parameter that is set prior to the learning process. In contrast, a parameter is a value in the model that is learned from the data. Train 20 classifiers, with varying amounts of decision trees starting from 10 up until 200, and plot the test accuracy as a function of the amount of classifiers. Does the accuracy keep increasing? Is more better?"
   ]
  },
  {
   "cell_type": "code",
   "execution_count": 8,
   "metadata": {},
   "outputs": [
    {
     "data": {
      "image/png": "[encoded data removed]",
      "text/plain": [
       "<Figure size 800x500 with 1 Axes>"
      ]
     },
     "metadata": {},
     "output_type": "display_data"
    }
   ],
   "source": [
    "# Use this cell for your code\n",
    "import matplotlib.pyplot as plt\n",
    "import numpy as np\n",
    "\n",
    "n_trees_list = np.linspace(10, 200, 20, dtype=int)  \n",
    "test_accuracies = []\n",
    "\n",
    "for n_trees in n_trees_list:\n",
    "    rf_model = RandomForestClassifier(n_estimators=n_trees, random_state=42)\n",
    "    rf_model.fit(X_train, y_train)\n",
    "    y_pred = rf_model.predict(X_test)\n",
    "    acc = accuracy_score(y_test, y_pred)\n",
    "    test_accuracies.append(acc)\n",
    "\n",
    "plt.figure(figsize=(8,5))\n",
    "plt.plot(n_trees_list, test_accuracies, marker='o')\n",
    "plt.show()"
   ]
  },
  {
   "cell_type": "markdown",
   "metadata": {},
   "source": [
    "3. If we had picked the amount of decision trees by taking the value with the best test accuracy from the last plot, we would have *overfit* our hyperparameters to the test data. Can you see why it is a mistake to tune hyperparameters of your model by using the test data?"
   ]
  },
  {
   "cell_type": "markdown",
   "metadata": {},
   "source": [
    "*You can use this markdown cell to write down your thoughts.*\n",
    "\n",
    "The test accuracy peaks around 50–60 trees, then fluctuates and even drops as we keep adding more trees.\n",
    "This shows that more trees don’t necessarily mean better performance on this dataset"
   ]
  },
  {
   "cell_type": "markdown",
   "metadata": {},
   "source": [
    "4. Reshuffle and resplit the data so that it is divided in 3 parts: training (80%), validation (10%) and test (10%). Repeatedly train a model of your choosing (e.g random forest) on the training data, and evaluate it’s performance on the validation set, while tuning the hyperparameters so that the accuracy on the validation set increases. Then, finally evaluate the performance of your model on the test data. What can you say in terms of the generalization of your model?"
   ]
  },
  {
   "cell_type": "code",
   "execution_count": null,
   "metadata": {},
   "outputs": [],
   "source": [
    "# Use this cell for your code\n",
    "\n"
   ]
  },
  {
   "cell_type": "markdown",
   "metadata": {},
   "source": [
    "**Remember to submit your code on the MOOC platform. You can return this Jupyter notebook (.ipynb) or .py, .R, etc depending on your programming preferences.**"
   ]
  },
  {
   "cell_type": "markdown",
   "metadata": {},
   "source": [
    "## Exercise 3 | TPOT"
   ]
  },
  {
   "cell_type": "code",
   "execution_count": null,
   "metadata": {},
   "outputs": [],
   "source": []
  },
  {
   "cell_type": "markdown",
   "metadata": {},
   "source": [
    "The process of picking a suitable model, evaluating its performance and tuning the hyperparameters is very time consuming. A new idea in machine learning is the concept of automating this by using an optimization algorithm to find the best model in the space of models and their hyperparameters. Have a look at [TPOT](https://github.com/EpistasisLab/tpot), an automated ML solution that finds a good model and a good set of hyperparameters automatically. Try it on this data, it should outperform simple models like the ones we tried easily. Note that running the algorithm might take a while, depending on the strength of your computer. \n",
    "\n",
    "*Note*: In case it is running for too long, try checking if the parameters you are using when calling TPOT are reasonable, i.e. try reducing number of ‘generations’ or ‘population_size’. TPOT uses cross-validation internally, so we don’t need our own validation set."
   ]
  },
  {
   "cell_type": "code",
   "execution_count": 13,
   "metadata": {},
   "outputs": [],
   "source": [
    "# Use this cell for your code\n",
    "\n",
    "\n",
    "\n",
    "\n",
    "\n",
    "\n",
    "\n"
   ]
  },
  {
   "cell_type": "markdown",
   "metadata": {},
   "source": [
    "**Remember to submit your code on the MOOC platform. You can return this Jupyter notebook (.ipynb) or .py, .R, etc depending on your programming preferences.**"
   ]
  }
 ],
 "metadata": {
  "kernelspec": {
   "display_name": "base",
   "language": "python",
   "name": "python3"
  },
  "language_info": {
   "codemirror_mode": {
    "name": "ipython",
    "version": 3
   },
   "file_extension": ".py",
   "mimetype": "text/x-python",
   "name": "python",
   "nbconvert_exporter": "python",
   "pygments_lexer": "ipython3",
   "version": "3.12.7"
  }
 },
 "nbformat": 4,
 "nbformat_minor": 4
}
